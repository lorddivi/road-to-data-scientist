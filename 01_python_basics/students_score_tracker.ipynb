{
 "cells": [
  {
   "cell_type": "code",
   "execution_count": 3,
   "id": "d8ed9784-3fb0-4c62-b262-ff1e3994b8b0",
   "metadata": {
    "tags": []
   },
   "outputs": [],
   "source": [
    "import pandas as pd\n",
    "\n",
    "df = pd.read_csv('Sample_data.csv')\n",
    "students = df.set_index(\"Name\").to_dict(orient=\"index\")"
   ]
  },
  {
   "cell_type": "code",
   "execution_count": 4,
   "id": "494cefcc-6a21-40bc-80a0-fe7b66912679",
   "metadata": {
    "tags": []
   },
   "outputs": [],
   "source": [
    "# Calculating the Class Average\n",
    "\n",
    "def class_avg(students):\n",
    "    total, count = 0,0\n",
    "    #print(students.values())\n",
    "    for scores in students.values():\n",
    "        total += sum(scores.values())\n",
    "        count += len(scores)\n",
    "    return total / count"
   ]
  },
  {
   "cell_type": "code",
   "execution_count": 5,
   "id": "3ef47265-37c1-4be8-b225-995ae5d5a1d9",
   "metadata": {
    "tags": []
   },
   "outputs": [],
   "source": [
    "# Finding the Top Scorer\n",
    "\n",
    "def top_scorer(students):\n",
    "    topper, max_score = 0,0 \n",
    "    for name, marks in students.items():\n",
    "        if sum(marks.values()) > max_score:\n",
    "            topper = name\n",
    "            max_score = sum(marks.values())\n",
    "    return topper, max_score"
   ]
  },
  {
   "cell_type": "code",
   "execution_count": 6,
   "id": "5fb8f3b9-e388-4988-9d58-cee69f9005a7",
   "metadata": {
    "tags": []
   },
   "outputs": [],
   "source": [
    "# Subject Wise Average\n",
    "\n",
    "def subject_averages(students):\n",
    "    totals = {}\n",
    "    counts = {}\n",
    "\n",
    "    for marks in students.values():\n",
    "        for subject, score in marks.items():\n",
    "            totals[subject] = totals.get(subject, 0) + score\n",
    "            counts[subject] = counts.get(subject, 0) + 1\n",
    "\n",
    "    return {subject: totals[subject]/counts[subject] for subject in totals}"
   ]
  },
  {
   "cell_type": "code",
   "execution_count": null,
   "id": "42d54092-abc3-45bc-8ed5-e35555f0d88b",
   "metadata": {},
   "outputs": [],
   "source": [
    "if __name__ == \"__main__\":\n",
    "    print(\"Class Average:\", class_average(students))\n",
    "    print(\"Top Scorer:\", top_scorer(students))\n",
    "    print(\"Subject Averages:\", subject_averages(students))\n",
    "\n",
    "    save_results(\"results.txt\", students)\n"
   ]
  }
 ],
 "metadata": {
  "kernelspec": {
   "display_name": "Python 3 (ipykernel)",
   "language": "python",
   "name": "python3"
  },
  "language_info": {
   "codemirror_mode": {
    "name": "ipython",
    "version": 3
   },
   "file_extension": ".py",
   "mimetype": "text/x-python",
   "name": "python",
   "nbconvert_exporter": "python",
   "pygments_lexer": "ipython3",
   "version": "3.11.5"
  }
 },
 "nbformat": 4,
 "nbformat_minor": 5
}
